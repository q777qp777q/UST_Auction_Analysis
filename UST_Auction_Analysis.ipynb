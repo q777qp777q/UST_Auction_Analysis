{
 "cells": [
  {
   "cell_type": "markdown",
   "metadata": {},
   "source": [
    "# UST Auction Analysis\n",
    "<hr>\n",
    "<p>Description overview of project here</p>\n",
    "<br>"
   ]
  },
  {
   "cell_type": "code",
   "execution_count": null,
   "metadata": {},
   "outputs": [],
   "source": [
    "# import libraries\n",
    "\n",
    "import pandas as pd\n",
    "import matplotlib.pyplot as plt\n",
    "import matplotlib.dates as mdates\n",
    "import re"
   ]
  },
  {
   "cell_type": "code",
   "execution_count": null,
   "metadata": {},
   "outputs": [],
   "source": [
    "# read in csv file data\n",
    "\n",
    "path = \"\" #  URL of csv here\n",
    "df = pd.read_csv(path, low_memory=False)"
   ]
  },
  {
   "cell_type": "markdown",
   "metadata": {},
   "source": [
    "### Reading and Cleaning Data"
   ]
  },
  {
   "cell_type": "code",
   "execution_count": null,
   "metadata": {},
   "outputs": [],
   "source": [
    "# csv data cleaning / uniformity\n",
    "\n",
    "#  reformat Auction Date column\n",
    "df[\"Auction Date\"] = pd.to_datetime(df[\"Auction Date\"])\n",
    "\n",
    "#  filter dataframe\n",
    "yield_curve_data = df[[\"Auction Date\", \"Security Term\", \"High Yield\", \"High Investment Rate\", \"Offering Amount\"]]\n",
    "\n",
    "#  create a column combining High Yield and High Investment Rate\n",
    "yield_curve_data[\"Yield_or_Investment_Rate\"] = yield_curve_data.loc[:, \"High Yield\"].fillna(yield_curve_data.loc[:, \"High Investment Rate\"])\n",
    "\n",
    "#  reformat Offering Amount column\n",
    "offering_columns = [\"Offering Amount\"] #  other columns in broader dataset in this format: \"Allocation Percentage\", \"Average / Median Yield\"\n",
    "for column in offering_columns:\n",
    "    yield_curve_data.loc[:, column] = yield_curve_data.loc[:, column].str.replace(\",\", \"\")\n",
    "    yield_curve_data.loc[:, column] = yield_curve_data.loc[:, column].str.replace(\"$\", \"\")\n",
    "yield_curve_data.loc[:, \"Offering Amount\"] = pd.to_numeric(yield_curve_data.loc[:, \"Offering Amount\"], errors=\"raise\")\n",
    "\n",
    "#  function to convert Terms from current format X-Year Y-Month etc. to decimal years\n",
    "def convert_term_to_years(term):\n",
    "    years = re.search(r\"(\\d+)-Year\", term)\n",
    "    months = re.search(r\"(\\d+)-Month\", term)\n",
    "    weeks = re.search(r\"(\\d+)-Week\", term)\n",
    "    days = re.search(r\"(\\d+)-Day\", term)\n",
    "\n",
    "    years = int(years.group(1)) if years else 0\n",
    "    months = int(months.group(1)) if months else 0\n",
    "    weeks = int(weeks.group(1)) if weeks else 0\n",
    "    days = int(days.group(1)) if days else 0\n",
    "\n",
    "    return years + (months/12) + (weeks/52) + (days/365)\n",
    "\n",
    "\n",
    "#  convert Security Term to decimal years\n",
    "yield_curve_data.loc[:, \"Security Term\"] = yield_curve_data.loc[:, \"Security Term\"].apply(convert_term_to_years)\n",
    "yield_curve_data.loc[:, \"Security Term\"] = pd.to_numeric(yield_curve_data.loc[:, \"Security Term\"], errors=\"raise\")\n",
    "\n",
    "#  reformat Yield_or_Investment_Rate column\n",
    "percentage_columns = [\"Yield_or_Investment_Rate\"] #  other columns in broader dataset in this format: \"Allocation Percentage\", \"Average / Median Yield\"\n",
    "for column in percentage_columns:\n",
    "    yield_curve_data.loc[:, column] = yield_curve_data.loc[:, column].str.replace(\"%\", \"\").astype(float) / 100\n",
    "yield_curve_data.loc[:, \"Yield_or_Investment_Rate\"] = pd.to_numeric(yield_curve_data.loc[:, \"Yield_or_Investment_Rate\"], errors=\"raise\")\n",
    "\n",
    "# normalize auction size data using max auction size, set scale for bubbles\n",
    "yield_curve_data[\"Normalized Auction Size\"] = yield_curve_data.loc[:, \"Offering Amount\"] / yield_curve_data.loc[:, \"Offering Amount\"].max() * 500  # scale factor for bubbles\n",
    "\n",
    "#  drop rows with NaN values after combination             <-- move this section up??\n",
    "yield_curve_data = yield_curve_data.loc[yield_curve_data[\"Yield_or_Investment_Rate\"].notna()]\n"
   ]
  },
  {
   "cell_type": "markdown",
   "metadata": {},
   "source": [
    "### VIsualizing Data w/ Scatterplot"
   ]
  },
  {
   "cell_type": "code",
   "execution_count": null,
   "metadata": {},
   "outputs": [],
   "source": [
    "# intialize scatter plot \n",
    "\n",
    "#  set variables for scatterplot\n",
    "x = yield_curve_data[\"Auction Date\"]\n",
    "y = yield_curve_data[\"Security Term\"].astype(float)\n",
    "s = yield_curve_data[\"Normalized Auction Size\"].astype(float) #  for size of bubble\n",
    "c = yield_curve_data[\"Yield_or_Investment_Rate\"].astype(float) #  for color of bubble\n",
    "\n",
    "plt.figure(figsize=(90,12), dpi=200, layout=\"tight\")\n",
    "\n",
    "plt.scatter(\n",
    "    x=x,\n",
    "    y=y,\n",
    "    s=s,\n",
    "    c=c,\n",
    "    cmap=\"viridis\",\n",
    "    alpha=0.65, #  transparency 0-1\n",
    "    edgecolors=\"k\"\n",
    ")"
   ]
  },
  {
   "cell_type": "code",
   "execution_count": null,
   "metadata": {},
   "outputs": [],
   "source": [
    "# format scatter plot and dislay\n",
    "\n",
    "#  format plot further\n",
    "plt.xlabel(\"Year\", fontsize=20)\n",
    "plt.ylabel(\"Security Term (Years)\", fontsize=20)\n",
    "plt.title(\"Treasury Auction Results, 1979-11-15 to 2024-10-24\", fontsize=30)\n",
    "plt.colorbar(label=\"High Yield or Investment Rate\", fraction=0.01, pad=0.008)\n",
    "plt.margins(x=0.005)\n",
    "\n",
    "#  format axes ticks and grid lines\n",
    "plt.gca().xaxis.set_major_locator(mdates.YearLocator(5))\n",
    "plt.gca().xaxis.set_major_formatter(mdates.DateFormatter(\"%Y\"))\n",
    "plt.gca().xaxis.set_minor_locator(mdates.YearLocator(1))\n",
    "plt.gca().xaxis.set_minor_formatter(mdates.DateFormatter(\"%Y\"))\n",
    "plt.grid(which=\"major\")\n",
    "plt.grid(which=\"minor\", axis=\"x\")\n",
    "plt.gca().set_axisbelow(True) #  for grid lines behind plot (why is this not default??)\n",
    "\n",
    "#  add citation\n",
    "citation_text = f\"US Treasury Marketable Securities Auction Results, retrieved from https://www.treasurydirect.gov/auctions/auction-query/\\nAnalysis by Tristan Phillips\"\n",
    "plt.text(0, -0.1, citation_text, ha=\"left\", va=\"top\", fontsize=10, transform=plt.gca().transAxes)\n",
    "\n",
    "plt.show()\n",
    "#  plt.savefig(\"results_scatter_full_1.png\", bbox_inches=\"tight\", dpi=200)\n",
    "plt.close()"
   ]
  }
 ],
 "metadata": {
  "language_info": {
   "name": "python"
  }
 },
 "nbformat": 4,
 "nbformat_minor": 2
}
